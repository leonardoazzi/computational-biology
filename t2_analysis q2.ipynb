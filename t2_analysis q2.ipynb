{
 "cells": [
  {
   "cell_type": "markdown",
   "id": "315c8ded",
   "metadata": {},
   "source": [
    "# Trabalho 2: Filogenia\n",
    "\n",
    "Leonardo Azzi Martins"
   ]
  },
  {
   "cell_type": "markdown",
   "id": "3d8ceb48",
   "metadata": {},
   "source": [
    "# Questão 2\n",
    "\n",
    "A seguir é apresentada a matriz de distância de 8 spécies. Implemente o algoritmo UPMGA para realizar a construção da árvore filogenética das seguintes espécies:  A, B, C, D, E, F, G, H\n",
    "\n",
    "Entrada do algoritmo: matriz de distâncias\n",
    "\n",
    "Saída: a áravore filogenética\n",
    "\n",
    "Informações Importantes:\n",
    "\n",
    "a) O código fonte deve ser entregue.\n",
    "\n",
    "b) Entregar em PDF a descrição do algoritmo implementado. Sugestão: preparar a descrição do algoritmo na forma de slides.\n",
    "\n",
    "c)  Sugestão: Para a representação da árvore pode ser utilizado o formato Newick tree - https://evolution.genetics.washington.edu/phylip/newicktree.html\n"
   ]
  },
  {
   "cell_type": "code",
   "execution_count": 3,
   "id": "a3bdec37",
   "metadata": {},
   "outputs": [
    {
     "data": {
      "text/plain": [
       "((7, (6, 5)), ((2, (3, 1)), (4, 0)))"
      ]
     },
     "execution_count": 3,
     "metadata": {},
     "output_type": "execute_result"
    }
   ],
   "source": [
    "import upgma\n",
    "import numpy as np\n",
    "\n",
    "dir = \"./2_phylogenetics\"\n",
    "distance_matrix = np.loadtxt(f'{dir}/q2_matrix.txt')\n",
    "\n",
    "upgma.run(distance_matrix)"
   ]
  },
  {
   "cell_type": "markdown",
   "id": "55beb1be",
   "metadata": {},
   "source": [
    "| Índice | Elemento |\n",
    "| ------ | -------- |\n",
    "| 0      | A        |\n",
    "| 1      | B        |\n",
    "| 2      | C        |\n",
    "| 3      | D        |\n",
    "| 4      | E        |\n",
    "| 5      | F        |\n",
    "| 6      | G        |\n",
    "| 7      | H        |"
   ]
  }
 ],
 "metadata": {
  "kernelspec": {
   "display_name": "env (3.10.12)",
   "language": "python",
   "name": "python3"
  },
  "language_info": {
   "codemirror_mode": {
    "name": "ipython",
    "version": 3
   },
   "file_extension": ".py",
   "mimetype": "text/x-python",
   "name": "python",
   "nbconvert_exporter": "python",
   "pygments_lexer": "ipython3",
   "version": "3.10.12"
  }
 },
 "nbformat": 4,
 "nbformat_minor": 5
}
