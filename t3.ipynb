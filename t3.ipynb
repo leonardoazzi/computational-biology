{
 "cells": [
  {
   "cell_type": "code",
   "execution_count": 55,
   "id": "29a2addd",
   "metadata": {},
   "outputs": [
    {
     "name": "stdout",
     "output_type": "stream",
     "text": [
      "    ┌─A\n",
      "──F─┼─B\n",
      "    │   ┌─C\n",
      "    └─E─┤\n",
      "        └─D\n"
     ]
    }
   ],
   "source": [
    "import newick\n",
    "from newick import Node\n",
    "# use a valid Newick string (semicoloned) — example tree with branch lengths and internal label\n",
    "arvre = newick.loads(\"(A:1,B:2,(C:3,D:4)E)F;\")[0]\n",
    "print(arvre.ascii_art())"
   ]
  },
  {
   "cell_type": "code",
   "execution_count": 53,
   "id": "c6e44f09",
   "metadata": {},
   "outputs": [
    {
     "data": {
      "text/plain": [
       "Node(\"F\")"
      ]
     },
     "execution_count": 53,
     "metadata": {},
     "output_type": "execute_result"
    }
   ],
   "source": [
    "arvre.visit()"
   ]
  },
  {
   "cell_type": "code",
   "execution_count": 72,
   "id": "88607b25",
   "metadata": {},
   "outputs": [
    {
     "name": "stdout",
     "output_type": "stream",
     "text": [
      "──\n"
     ]
    }
   ],
   "source": [
    "teste = Node.create()\n",
    "print(teste.ascii_art())"
   ]
  }
 ],
 "metadata": {
  "kernelspec": {
   "display_name": "env (3.10.12)",
   "language": "python",
   "name": "python3"
  },
  "language_info": {
   "codemirror_mode": {
    "name": "ipython",
    "version": 3
   },
   "file_extension": ".py",
   "mimetype": "text/x-python",
   "name": "python",
   "nbconvert_exporter": "python",
   "pygments_lexer": "ipython3",
   "version": "3.10.12"
  }
 },
 "nbformat": 4,
 "nbformat_minor": 5
}
