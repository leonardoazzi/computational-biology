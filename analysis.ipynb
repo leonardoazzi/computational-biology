{
 "cells": [
  {
   "cell_type": "markdown",
   "id": "fcfececa",
   "metadata": {},
   "source": [
    "# Trabalho 1: Alinhamento de Sequências\n",
    "\n",
    "Leonardo Azzi Martins"
   ]
  },
  {
   "cell_type": "markdown",
   "id": "ba139adf",
   "metadata": {},
   "source": [
    "> As sequências de entrada foram armazenadas no diretório `sequences`, onde os arquivos são nomeados como `<tax_id>.txt`. Os `tax_id` 01 e 02 são os exemplos de teste fornecidos pelo professor para toda a turma."
   ]
  },
  {
   "cell_type": "markdown",
   "id": "7fd70093",
   "metadata": {},
   "source": [
    "# Questão 1.\n",
    "\n",
    "a) Desenvolva um programa que implemente o algoritmo de Needleman-Wunsch. A implementação deve incluir a criação da matriz de pontuação e a função de traceback para reconstruir o alinhamento.\n",
    "\n",
    "> Os programas estão em global_alignment.py."
   ]
  },
  {
   "cell_type": "markdown",
   "id": "de5ce44e",
   "metadata": {},
   "source": [
    "b) Utilize a função de alinhamento para processar os seguintes pares de sequências:\n",
    "\n",
    "    Homo Sapiens vs. Chrysocyon brachyurus\n",
    "    Homo Sapiens vs. Gallus gallus\n",
    "    Homo Sapiens vs. Oncorhynchus mykiss\n",
    "\n",
    "* Humano (Homo sapiens) [TaxId: 9606]\n",
    "* Lobo-Guará (Chrysocyon brachyurus) [TaxId: 68728]\n",
    "* Galinha (Gallus gallus) [TaxId: 9031]\n",
    "* Truta Arco-Íris (Oncorhynchus mykiss) [TaxId: 8022]\n",
    "\n",
    "\n",
    "Para cada par, imprima o alinhamento global resultante e a pontuação final obtida."
   ]
  },
  {
   "cell_type": "code",
   "execution_count": 3,
   "id": "82b405de",
   "metadata": {},
   "outputs": [
    {
     "name": "stdout",
     "output_type": "stream",
     "text": [
      "Alinhamento global: Homo Sapiens vs. Chrysocyon brachyurus\n",
      "Sequência 1: VLSPADKTNVKAAWGKVGAHAGEYGAEALERMFLSFPTTKTYFPHFDLSHGSAQVKGHGKKVADALTNAVAHVDDMPNALSALSDLHAHKLRVDPVNFKLLSHCLLVTLAAHLPAEFTPAVHASLDKFLASVSTVLTSKY-\n",
      "Sequência 2: VLSPADKTNIKSTWDKIGGHAGDYGGEALDRTFQSFPTTKTYFPHFDLSPGSAQVKAHGKKVADALTTAVAHLDDLPGALSALSDLHAYKLRVDPVNFKLLSHCLLVTLACHHPTEFTPAVHASLDKFFTAVSTVLTSKYR\n",
      "Pontuação final: 181 \n",
      "\n",
      "Alinhamento global: Homo Sapiens vs. Gallus gallus\n",
      "Sequência 1: VLSPADKTNVKAAWGKVGAHAGEYGAEALERMFLSFPTTKTYFPHFDLSHGSAQVKGHGKKVADALTNAVAHVDDMPNALSALSDLHAHKLRVDPVNFKLLSHCLLVTLAAHLPAEFTPAVHASLDKFLASVSTVLTSKY-\n",
      "Sequência 2: MLTAEDKKLIQQAWEKAASHQEEFGAEALTRMFTTYPQTKTYFPHFDLSPGSDQVRGHGKKVLGALGNAVKNVDNLSQAMAELSNLHAYNLRVDPVNFKLLSQCIQVVLAVHMGKDYTPEVHAAFDKFLSAVSAVLAEKYR\n",
      "Pontuação final: 49 \n",
      "\n",
      "Alinhamento global: Homo Sapiens vs. Oncorhynchus mykiss\n",
      "Sequência 1: -VLSPADKTNVKAAWGKVGAHAGEYGAEALERMFLSFPTTKTYFPH-FDLSHGSAQVKGHGKKVADALTNAVAHVDDMPNALSALSDLHAHKLRVDPVNFKLLSHCLLVTLAAHLPAEFTPAVHASLDKFLASVSTVLTSKY-\n",
      "Sequência 2: XSLTAKDKSVVKAFWGKISGKADVVGAEALGRMLTAYPQTKTYFSHWADLSPGSGPVKKHGGIIMGAIGKAVGLMDDLVGGMSALSDLHAFKLRVDPGNFKILSHNILVTLAIHFPSDFTPEVHIAVDKFLAAVSAALADKYR\n",
      "Pontuação final: 31\n"
     ]
    }
   ],
   "source": [
    "import global_alignment\n",
    "\n",
    "humano_vs_lobo_guara = global_alignment.main(\"9606\", \"68728\")\n",
    "\n",
    "print(\"Alinhamento global: Homo Sapiens vs. Chrysocyon brachyurus\")\n",
    "print(\"Sequência 1:\", humano_vs_lobo_guara[\"seq_1\"])\n",
    "print(\"Sequência 2:\", humano_vs_lobo_guara[\"seq_2\"])\n",
    "print(\"Pontuação final:\", humano_vs_lobo_guara[\"score\"], \"\\n\")\n",
    "\n",
    "humano_vs_galinha = global_alignment.main(\"9606\", \"9031\")\n",
    "\n",
    "print(\"Alinhamento global: Homo Sapiens vs. Gallus gallus\")\n",
    "print(\"Sequência 1:\", humano_vs_galinha[\"seq_1\"])\n",
    "print(\"Sequência 2:\", humano_vs_galinha[\"seq_2\"])\n",
    "print(\"Pontuação final:\", humano_vs_galinha[\"score\"], \"\\n\")\n",
    "\n",
    "humano_vs_truta = global_alignment.main(\"9606\", \"8022\")\n",
    "\n",
    "print(\"Alinhamento global: Homo Sapiens vs. Oncorhynchus mykiss\")\n",
    "print(\"Sequência 1:\", humano_vs_truta[\"seq_1\"])\n",
    "print(\"Sequência 2:\", humano_vs_truta[\"seq_2\"])\n",
    "print(\"Pontuação final:\", humano_vs_truta[\"score\"])"
   ]
  },
  {
   "cell_type": "markdown",
   "id": "cd3a5249",
   "metadata": {},
   "source": [
    "c) Calcule a porcentagem de identidade de sequências para cada um dos pares acima "
   ]
  },
  {
   "cell_type": "code",
   "execution_count": 4,
   "id": "bc282a3b",
   "metadata": {},
   "outputs": [
    {
     "name": "stdout",
     "output_type": "stream",
     "text": [
      "Identidade: Homo Sapiens vs. Chrysocyon brachyurus\n",
      "Porcentagem de identidade: 82.270% \n",
      "\n",
      "Identidade: Homo Sapiens vs. Gallus gallus\n",
      "Porcentagem de identidade: 58.865% \n",
      "\n",
      "Identidade: Homo Sapiens vs. Oncorhynchus mykiss\n",
      "Porcentagem de identidade: 55.944%\n"
     ]
    }
   ],
   "source": [
    "print(\"Identidade: Homo Sapiens vs. Chrysocyon brachyurus\")\n",
    "print(\"Porcentagem de identidade:\", f\"{humano_vs_lobo_guara['identity']*100:.3f}%\", \"\\n\")\n",
    "\n",
    "print(\"Identidade: Homo Sapiens vs. Gallus gallus\")\n",
    "print(\"Porcentagem de identidade:\", f\"{humano_vs_galinha['identity']*100:.3f}%\", \"\\n\")\n",
    "\n",
    "print(\"Identidade: Homo Sapiens vs. Oncorhynchus mykiss\")\n",
    "print(\"Porcentagem de identidade:\", f\"{humano_vs_truta['identity']*100:.3f}%\")"
   ]
  },
  {
   "cell_type": "markdown",
   "id": "84acd639",
   "metadata": {},
   "source": [
    "d) Baseado nos resultados, identifique qual espécie apresenta a maior similaridade com a sequência Homo Sapiens.\n",
    "\n",
    "> No alinhamento global, a espécie Chrysocyon brachyurus apresentou 181 pontos de alinhamento global, e 82,27% de identidade."
   ]
  },
  {
   "cell_type": "markdown",
   "id": "9a76b147",
   "metadata": {},
   "source": [
    "# Questão 2\n",
    "\n",
    "* Valor para GAP: -3\n",
    "* Valor para Match: +2\n",
    "* Valor para Mismatch: -2\n",
    "* Prioridade no traceback deve ser a diagonal sempre que houver um empate\n",
    "* Se houver mais de uma subsequência no algoritmo de Smith-Waterman com o mesmo score, retorne a primeira encontrada\n",
    "\n",
    "a) Implemente o algoritmo de Smith-Waterman para alinhamento local. Sua implementação deve incluir a criação da matriz de pontuação e a função de traceback.\n",
    "\n",
    "> Implementado em local_alignment.py"
   ]
  },
  {
   "cell_type": "markdown",
   "id": "fd0c9ec8",
   "metadata": {},
   "source": [
    "b) Identifique e extraia a sub-sequência com a maior pontuação para cada par:\n",
    "\n",
    "    Homo Sapiens vs. Chrysocyon brachyurus\n",
    "    Homo Sapiens vs. Gallus gallus\n",
    "    Homo Sapiens vs. Oncorhynchus mykiss\n",
    "\n",
    "Qual é o valor dessa pontuação e qual é a sub-sequência correspondente?"
   ]
  },
  {
   "cell_type": "code",
   "execution_count": 5,
   "id": "89e35309",
   "metadata": {},
   "outputs": [
    {
     "name": "stdout",
     "output_type": "stream",
     "text": [
      "Alinhamento local: Homo Sapiens vs. Chrysocyon brachyurus\n",
      "Sequência 1: VLSPADKTNVKAAWGKVGAHAGEYGAEALERMFLSFPTTKTYFPHFDLSHGSAQVKGHGKKVADALTNAVAHVDDMPNALSALSDLHAHKLRVDPVNFKLLSHCLLVTLAAHLPAEFTPAVHASLDKFLASVSTVLTSKY\n",
      "Sequência 2: VLSPADKTNIKSTWDKIGGHAGDYGGEALDRTFQSFPTTKTYFPHFDLSPGSAQVKAHGKKVADALTTAVAHLDDLPGALSALSDLHAYKLRVDPVNFKLLSHCLLVTLACHHPTEFTPAVHASLDKFFTAVSTVLTSKY\n",
      "Pontuação final: 184 \n",
      "\n",
      "Alinhamento local: Homo Sapiens vs. Gallus gallus\n",
      "Sequência 1: GAEALERMFLSFPTTKTYFPHFDLSHGSAQVKGHGKKVADALTNAVAHVDDMPNALSALSDLHAHKLRVDPVNFKLLSHCLLVTLAAHLPAEFTPAVHASLDKFLASVSTVL\n",
      "Sequência 2: GAEALTRMFTTYPQTKTYFPHFDLSPGSDQVRGHGKKVLGALGNAVKNVDNLSQAMAELSNLHAYNLRVDPVNFKLLSQCIQVVLAVHMGKDYTPEVHAAFDKFLSAVSAVL\n",
      "Pontuação final: 68 \n",
      "\n",
      "Alinhamento local: Homo Sapiens vs. Oncorhynchus mykiss\n",
      "Sequência 1: SALSDLHAHKLRVDPVNFKLLSHCLLVTLAAHLPAEFTPAVHASLDKFLASVS\n",
      "Sequência 2: SALSDLHAFKLRVDPGNFKILSHNILVTLAIHFPSDFTPEVHIAVDKFLAAVS\n",
      "Pontuação final: 50\n"
     ]
    }
   ],
   "source": [
    "import local_alignment\n",
    "\n",
    "humano_vs_lobo_guara = local_alignment.main(\"9606\", \"68728\")\n",
    "\n",
    "print(\"Alinhamento local: Homo Sapiens vs. Chrysocyon brachyurus\")\n",
    "print(\"Sequência 1:\", humano_vs_lobo_guara[\"seq_1\"])\n",
    "print(\"Sequência 2:\", humano_vs_lobo_guara[\"seq_2\"])\n",
    "print(\"Pontuação final:\", humano_vs_lobo_guara[\"score\"], \"\\n\")\n",
    "\n",
    "humano_vs_galinha = local_alignment.main(\"9606\", \"9031\")\n",
    "\n",
    "print(\"Alinhamento local: Homo Sapiens vs. Gallus gallus\")\n",
    "print(\"Sequência 1:\", humano_vs_galinha[\"seq_1\"])\n",
    "print(\"Sequência 2:\", humano_vs_galinha[\"seq_2\"])\n",
    "print(\"Pontuação final:\", humano_vs_galinha[\"score\"], \"\\n\")\n",
    "\n",
    "humano_vs_truta = local_alignment.main(\"9606\", \"8022\")\n",
    "\n",
    "print(\"Alinhamento local: Homo Sapiens vs. Oncorhynchus mykiss\")\n",
    "print(\"Sequência 1:\", humano_vs_truta[\"seq_1\"])\n",
    "print(\"Sequência 2:\", humano_vs_truta[\"seq_2\"])\n",
    "print(\"Pontuação final:\", humano_vs_truta[\"score\"])"
   ]
  },
  {
   "cell_type": "markdown",
   "id": "26ae469b",
   "metadata": {},
   "source": [
    "c) Realize o traceback a partir da célula na linha 4 e coluna 5 da matriz de pontuação. Quais os alinhamento local obtidos para cada par avaliado?"
   ]
  },
  {
   "cell_type": "code",
   "execution_count": 6,
   "id": "18bf9630",
   "metadata": {},
   "outputs": [
    {
     "name": "stdout",
     "output_type": "stream",
     "text": [
      "Alinhamento local: Homo Sapiens vs. Chrysocyon brachyurus\n",
      "Sequência 1: VLSP-\n",
      "Sequência 2: VLSPA\n",
      "Pontuação final: 5 \n",
      "\n",
      "Alinhamento local: Homo Sapiens vs. Gallus gallus\n",
      "Sequência 1: \n",
      "Sequência 2: \n",
      "Pontuação final: 0 \n",
      "\n",
      "Alinhamento local: Homo Sapiens vs. Oncorhynchus mykiss\n",
      "Sequência 1: \n",
      "Sequência 2: \n",
      "Pontuação final: 0\n"
     ]
    }
   ],
   "source": [
    "import local_alignment\n",
    "\n",
    "start_pos = (4, 5) # Linha 4, coluna 5\n",
    "\n",
    "humano_vs_lobo_guara = local_alignment.main(\"9606\", \"68728\", start_pos)\n",
    "\n",
    "print(\"Alinhamento local: Homo Sapiens vs. Chrysocyon brachyurus\")\n",
    "print(\"Sequência 1:\", humano_vs_lobo_guara[\"seq_1\"])\n",
    "print(\"Sequência 2:\", humano_vs_lobo_guara[\"seq_2\"])\n",
    "print(\"Pontuação final:\", humano_vs_lobo_guara[\"score\"], \"\\n\")\n",
    "\n",
    "humano_vs_galinha = local_alignment.main(\"9606\", \"9031\", start_pos)\n",
    "\n",
    "print(\"Alinhamento local: Homo Sapiens vs. Gallus gallus\")\n",
    "print(\"Sequência 1:\", humano_vs_galinha[\"seq_1\"])\n",
    "print(\"Sequência 2:\", humano_vs_galinha[\"seq_2\"])\n",
    "print(\"Pontuação final:\", humano_vs_galinha[\"score\"], \"\\n\")\n",
    "\n",
    "humano_vs_truta = local_alignment.main(\"9606\", \"8022\", start_pos)\n",
    "\n",
    "print(\"Alinhamento local: Homo Sapiens vs. Oncorhynchus mykiss\")\n",
    "print(\"Sequência 1:\", humano_vs_truta[\"seq_1\"])\n",
    "print(\"Sequência 2:\", humano_vs_truta[\"seq_2\"])\n",
    "print(\"Pontuação final:\", humano_vs_truta[\"score\"])"
   ]
  },
  {
   "cell_type": "markdown",
   "id": "117c4656",
   "metadata": {},
   "source": [
    "# Questão 3\n",
    "\n",
    "a) A partir das sequencias alinhadas, qual conclusão podemos chegar ao analisar o score e a identidade obtida?\n",
    "\n",
    "> As sequências selecionadas para diferentes espécie são hemoglobinas (subunit alpha). Tanto com alinhamento global quanto local, o Lobo-guará apresentou uma sequência mais próxima à do Humano. Podemos considerar que esta proximidade tem explicação evolutiva/filogenética, pois ambas espécies são mamíferos, quanto o Galo e a Truta pertencem a espécies distintas.\n",
    "\n",
    "\n",
    "b) Qual a diferença do score do alinhamento e a identidade?\n",
    "\n",
    "> O score do alinhamento representa a soma dos valores reconstituídos no traceback, que são relativos a matches, mismatches e gaps ao longo do alinhamento de acordo com os valores de pontuação definidos. Já a identidade corresponde à proporção de matches entre as duas sequências alinhadas, expressa em porcentagem. O score acaba servindo como uma medida de similaridade ou \"distância de edição\" entre duas sequências, e a identidade é útil para avaliar o grau de conservação entre as sequências.\n",
    "\n",
    "c) Quais são as aplicações do alinhamento de sequências (seja em sequências de nucleotídeos ou de aminoácidos)? Quais seriam os possíveis passos seguintes de um alinhamento de sequência?\n",
    "\n",
    "> O alinhamento de sequências é utilizado na bioinformática para identificar regiões conservadas, inferir relações evolutivas, detectar mutações, prever funções de genes/proteínas e realizar anotação funcional. É utilizado em filogenia, análise de variantes, busca por homologia, montagem de genomas. entre outras aplicações. Após o alinhamento, os próximos passos podem incluir: análise filogenética, identificação de domínios conservados, anotação funcional, detecção de variantes, construção de árvores evolutivas, busca por regiões alvo para edição gênica, ou integração dos resultados em bancos de dados para estudos comparativos."
   ]
  }
 ],
 "metadata": {
  "kernelspec": {
   "display_name": "env (3.10.12)",
   "language": "python",
   "name": "python3"
  },
  "language_info": {
   "codemirror_mode": {
    "name": "ipython",
    "version": 3
   },
   "file_extension": ".py",
   "mimetype": "text/x-python",
   "name": "python",
   "nbconvert_exporter": "python",
   "pygments_lexer": "ipython3",
   "version": "3.10.12"
  }
 },
 "nbformat": 4,
 "nbformat_minor": 5
}
